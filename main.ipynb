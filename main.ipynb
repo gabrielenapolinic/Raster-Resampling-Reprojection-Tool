{
 "cells": [
  {
   "cell_type": "code",
   "execution_count": 1,
   "id": "b92143e9-46e9-4e14-a059-bf294f62d1f6",
   "metadata": {},
   "outputs": [],
   "source": [
    "import rasterio\n",
    "from rasterio.warp import calculate_default_transform, reproject, Resampling\n",
    "from rasterio.enums import Resampling as ResamplingMethod\n",
    "\n",
    "def resample_raster(input_path, output_path, new_resolution=1):\n",
    "    \"\"\"\n",
    "    Resamples a raster to a specified resolution and reprojects it to the EPSG:3857 (Web Mercator) CRS.\n",
    "\n",
    "    Parameters:\n",
    "        input_path (str): Path to the input raster file.\n",
    "        output_path (str): Path to save the resampled raster file.\n",
    "        new_resolution (float): Target resolution in CRS units (default is 1).\n",
    "    \"\"\"\n",
    "    # Open the input raster file\n",
    "    with rasterio.open(input_path) as src:\n",
    "        # Define the target CRS as EPSG:3857 (Web Mercator)\n",
    "        dst_crs = \"EPSG:3857\"\n",
    "\n",
    "        # Calculate the transform, width, and height for the new resolution and CRS\n",
    "        transform, width, height = calculate_default_transform(\n",
    "            src.crs,               # Source CRS\n",
    "            dst_crs,               # Target CRS\n",
    "            src.width,             # Width of the source raster\n",
    "            src.height,            # Height of the source raster\n",
    "            *src.bounds,           # Bounding box of the source raster\n",
    "            resolution=(new_resolution, new_resolution)  # Target resolution\n",
    "        )\n",
    "\n",
    "        # Copy and update the source raster's profile\n",
    "        profile = src.profile.copy()\n",
    "        profile.update({\n",
    "            'crs': dst_crs,        # Update the CRS to EPSG:3857\n",
    "            'transform': transform, # Update the affine transformation matrix\n",
    "            'width': width,         # New raster width in pixels\n",
    "            'height': height,       # New raster height in pixels\n",
    "            'driver': 'GTiff'       # Output format: GeoTIFF\n",
    "        })\n",
    "\n",
    "        # Write the resampled raster to the output file\n",
    "        with rasterio.open(output_path, 'w', **profile) as dst:\n",
    "            # Process each band in the input raster\n",
    "            for i in range(1, src.count + 1):\n",
    "                reproject(\n",
    "                    source=rasterio.band(src, i),       # Read data from the source band\n",
    "                    destination=rasterio.band(dst, i),  # Write data to the destination band\n",
    "                    src_transform=src.transform,        # Source affine transform\n",
    "                    src_crs=src.crs,                    # Source CRS\n",
    "                    dst_transform=transform,            # Target affine transform\n",
    "                    dst_crs=dst_crs,                    # Target CRS (EPSG:3857)\n",
    "                    resampling=ResamplingMethod.bilinear # Resampling method: bilinear interpolation\n",
    "                )\n",
    "\n",
    "    print(f\"Raster saved to {output_path} with {new_resolution}x{new_resolution} resolution in CRS {dst_crs}.\")\n"
   ]
  },
  {
   "cell_type": "code",
   "execution_count": 2,
   "id": "d20c5345-6026-41ae-ac2f-212e8ac7fa26",
   "metadata": {},
   "outputs": [],
   "source": [
    "# Example usage\n",
    "input_raster_path = r\"/path/to/input_raster.tif\"\n",
    "output_raster_path = r\"/path/to/output_raster_resampled.tif\"\n",
    "\n",
    "# Run the resampling function\n",
    "resample_raster(input_raster_path, output_raster_path)"
   ]
  }
 ],
 "metadata": {
  "kernelspec": {
   "display_name": "Python 3 (ipykernel)",
   "language": "python",
   "name": "python3"
  },
  "language_info": {
   "codemirror_mode": {
    "name": "ipython",
    "version": 3
   },
   "file_extension": ".py",
   "mimetype": "text/x-python",
   "name": "python",
   "nbconvert_exporter": "python",
   "pygments_lexer": "ipython3",
   "version": "3.12.2"
  }
 },
 "nbformat": 4,
 "nbformat_minor": 5
}
